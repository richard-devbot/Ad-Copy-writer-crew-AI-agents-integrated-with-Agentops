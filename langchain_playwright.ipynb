{
  "nbformat": 4,
  "nbformat_minor": 0,
  "metadata": {
    "colab": {
      "provenance": [],
      "authorship_tag": "ABX9TyN4lWc5Tkth2iEj4esAKbbm",
      "include_colab_link": true
    },
    "kernelspec": {
      "name": "python3",
      "display_name": "Python 3"
    },
    "language_info": {
      "name": "python"
    }
  },
  "cells": [
    {
      "cell_type": "markdown",
      "metadata": {
        "id": "view-in-github",
        "colab_type": "text"
      },
      "source": [
        "<a href=\"https://colab.research.google.com/github/richard-devbot/Ad-Copy-writer-crew-AI-agents-integrated-with-Agentops/blob/main/langchain_playwright.ipynb\" target=\"_parent\"><img src=\"https://colab.research.google.com/assets/colab-badge.svg\" alt=\"Open In Colab\"/></a>"
      ]
    },
    {
      "cell_type": "code",
      "execution_count": 1,
      "metadata": {
        "id": "DmvPYq8jDnro"
      },
      "outputs": [],
      "source": [
        "%pip install --upgrade --quiet  playwright > /dev/null\n",
        "%pip install --upgrade --quiet  lxml\n",
        "\n",
        "# If this is your first time using playwright, you'll have to install a browser executable.\n",
        "# Running `playwright install` by default installs a chromium browser executable.\n",
        "# playwright install"
      ]
    },
    {
      "cell_type": "code",
      "source": [
        "%pip install -qU langchain-groq\n",
        "%pip install -qU langchain_community beautifulsoup4"
      ],
      "metadata": {
        "colab": {
          "base_uri": "https://localhost:8080/"
        },
        "id": "t6XEbnLKD9MK",
        "outputId": "474e1d52-5498-432b-f3d5-5e020ba56e6b"
      },
      "execution_count": 3,
      "outputs": [
        {
          "output_type": "stream",
          "name": "stdout",
          "text": [
            "\u001b[2K   \u001b[90m━━━━━━━━━━━━━━━━━━━━━━━━━━━━━━━━━━━━━━━━\u001b[0m \u001b[32m109.1/109.1 kB\u001b[0m \u001b[31m3.1 MB/s\u001b[0m eta \u001b[36m0:00:00\u001b[0m\n",
            "\u001b[2K   \u001b[90m━━━━━━━━━━━━━━━━━━━━━━━━━━━━━━━━━━━━━━━━\u001b[0m \u001b[32m2.5/2.5 MB\u001b[0m \u001b[31m26.7 MB/s\u001b[0m eta \u001b[36m0:00:00\u001b[0m\n",
            "\u001b[2K   \u001b[90m━━━━━━━━━━━━━━━━━━━━━━━━━━━━━━━━━━━━━━━━\u001b[0m \u001b[32m1.0/1.0 MB\u001b[0m \u001b[31m43.6 MB/s\u001b[0m eta \u001b[36m0:00:00\u001b[0m\n",
            "\u001b[2K   \u001b[90m━━━━━━━━━━━━━━━━━━━━━━━━━━━━━━━━━━━━━━━━\u001b[0m \u001b[32m411.2/411.2 kB\u001b[0m \u001b[31m20.8 MB/s\u001b[0m eta \u001b[36m0:00:00\u001b[0m\n",
            "\u001b[2K   \u001b[90m━━━━━━━━━━━━━━━━━━━━━━━━━━━━━━━━━━━━━━━━\u001b[0m \u001b[32m49.5/49.5 kB\u001b[0m \u001b[31m3.0 MB/s\u001b[0m eta \u001b[36m0:00:00\u001b[0m\n",
            "\u001b[?25h"
          ]
        }
      ]
    },
    {
      "cell_type": "code",
      "source": [
        "from langchain_community.agent_toolkits import PlayWrightBrowserToolkit"
      ],
      "metadata": {
        "id": "ZHcx8ip6Dyoy"
      },
      "execution_count": 4,
      "outputs": []
    },
    {
      "cell_type": "code",
      "source": [
        "from langchain_community.tools.playwright.utils import (\n",
        "    create_async_playwright_browser,  # A synchronous browser is available, though it isn't compatible with jupyter.\\n\",\t  },\n",
        ")"
      ],
      "metadata": {
        "id": "mJamrec5EV2s"
      },
      "execution_count": 8,
      "outputs": []
    },
    {
      "cell_type": "code",
      "source": [
        "# This import is required only for jupyter notebooks, since they have their own eventloop\n",
        "import nest_asyncio\n",
        "\n",
        "nest_asyncio.apply()"
      ],
      "metadata": {
        "id": "JVhqzH0OFFDZ"
      },
      "execution_count": 9,
      "outputs": []
    },
    {
      "cell_type": "code",
      "source": [
        "!playwright install chromium"
      ],
      "metadata": {
        "colab": {
          "base_uri": "https://localhost:8080/"
        },
        "id": "wq4tUvpzFcwx",
        "outputId": "bed342a8-91d4-412a-d287-5d2cb341ddf9"
      },
      "execution_count": 11,
      "outputs": [
        {
          "output_type": "stream",
          "name": "stdout",
          "text": [
            "Downloading Chromium 131.0.6778.33 (playwright build v1148)\u001b[2m from https://playwright.azureedge.net/builds/chromium/1148/chromium-linux.zip\u001b[22m\n",
            "\u001b[1G161.3 MiB [] 0% 0.0s\u001b[0K\u001b[1G161.3 MiB [] 0% 18.4s\u001b[0K\u001b[1G161.3 MiB [] 0% 4.7s\u001b[0K\u001b[1G161.3 MiB [] 1% 3.2s\u001b[0K\u001b[1G161.3 MiB [] 2% 2.6s\u001b[0K\u001b[1G161.3 MiB [] 3% 2.4s\u001b[0K\u001b[1G161.3 MiB [] 4% 2.1s\u001b[0K\u001b[1G161.3 MiB [] 5% 1.9s\u001b[0K\u001b[1G161.3 MiB [] 6% 1.9s\u001b[0K\u001b[1G161.3 MiB [] 6% 2.1s\u001b[0K\u001b[1G161.3 MiB [] 7% 2.1s\u001b[0K\u001b[1G161.3 MiB [] 8% 1.9s\u001b[0K\u001b[1G161.3 MiB [] 9% 1.9s\u001b[0K\u001b[1G161.3 MiB [] 10% 1.8s\u001b[0K\u001b[1G161.3 MiB [] 10% 1.9s\u001b[0K\u001b[1G161.3 MiB [] 11% 1.9s\u001b[0K\u001b[1G161.3 MiB [] 12% 1.8s\u001b[0K\u001b[1G161.3 MiB [] 13% 1.7s\u001b[0K\u001b[1G161.3 MiB [] 14% 1.8s\u001b[0K\u001b[1G161.3 MiB [] 15% 1.8s\u001b[0K\u001b[1G161.3 MiB [] 16% 1.7s\u001b[0K\u001b[1G161.3 MiB [] 17% 1.6s\u001b[0K\u001b[1G161.3 MiB [] 18% 1.6s\u001b[0K\u001b[1G161.3 MiB [] 20% 1.5s\u001b[0K\u001b[1G161.3 MiB [] 21% 1.5s\u001b[0K\u001b[1G161.3 MiB [] 22% 1.4s\u001b[0K\u001b[1G161.3 MiB [] 23% 1.4s\u001b[0K\u001b[1G161.3 MiB [] 24% 1.4s\u001b[0K\u001b[1G161.3 MiB [] 25% 1.4s\u001b[0K\u001b[1G161.3 MiB [] 26% 1.3s\u001b[0K\u001b[1G161.3 MiB [] 28% 1.3s\u001b[0K\u001b[1G161.3 MiB [] 29% 1.3s\u001b[0K\u001b[1G161.3 MiB [] 30% 1.3s\u001b[0K\u001b[1G161.3 MiB [] 32% 1.2s\u001b[0K\u001b[1G161.3 MiB [] 33% 1.2s\u001b[0K\u001b[1G161.3 MiB [] 35% 1.1s\u001b[0K\u001b[1G161.3 MiB [] 36% 1.1s\u001b[0K\u001b[1G161.3 MiB [] 38% 1.0s\u001b[0K\u001b[1G161.3 MiB [] 39% 1.0s\u001b[0K\u001b[1G161.3 MiB [] 41% 1.0s\u001b[0K\u001b[1G161.3 MiB [] 43% 0.9s\u001b[0K\u001b[1G161.3 MiB [] 44% 0.9s\u001b[0K\u001b[1G161.3 MiB [] 45% 0.9s\u001b[0K\u001b[1G161.3 MiB [] 46% 0.8s\u001b[0K\u001b[1G161.3 MiB [] 48% 0.8s\u001b[0K\u001b[1G161.3 MiB [] 49% 0.8s\u001b[0K\u001b[1G161.3 MiB [] 51% 0.7s\u001b[0K\u001b[1G161.3 MiB [] 52% 0.7s\u001b[0K\u001b[1G161.3 MiB [] 54% 0.7s\u001b[0K\u001b[1G161.3 MiB [] 56% 0.7s\u001b[0K\u001b[1G161.3 MiB [] 57% 0.6s\u001b[0K\u001b[1G161.3 MiB [] 58% 0.6s\u001b[0K\u001b[1G161.3 MiB [] 60% 0.6s\u001b[0K\u001b[1G161.3 MiB [] 62% 0.5s\u001b[0K\u001b[1G161.3 MiB [] 63% 0.5s\u001b[0K\u001b[1G161.3 MiB [] 64% 0.5s\u001b[0K\u001b[1G161.3 MiB [] 66% 0.5s\u001b[0K\u001b[1G161.3 MiB [] 67% 0.5s\u001b[0K\u001b[1G161.3 MiB [] 69% 0.4s\u001b[0K\u001b[1G161.3 MiB [] 70% 0.4s\u001b[0K\u001b[1G161.3 MiB [] 71% 0.4s\u001b[0K\u001b[1G161.3 MiB [] 72% 0.4s\u001b[0K\u001b[1G161.3 MiB [] 73% 0.4s\u001b[0K\u001b[1G161.3 MiB [] 74% 0.4s\u001b[0K\u001b[1G161.3 MiB [] 75% 0.4s\u001b[0K\u001b[1G161.3 MiB [] 76% 0.3s\u001b[0K\u001b[1G161.3 MiB [] 77% 0.3s\u001b[0K\u001b[1G161.3 MiB [] 78% 0.3s\u001b[0K\u001b[1G161.3 MiB [] 79% 0.3s\u001b[0K\u001b[1G161.3 MiB [] 80% 0.3s\u001b[0K\u001b[1G161.3 MiB [] 81% 0.3s\u001b[0K\u001b[1G161.3 MiB [] 82% 0.3s\u001b[0K\u001b[1G161.3 MiB [] 83% 0.2s\u001b[0K\u001b[1G161.3 MiB [] 84% 0.2s\u001b[0K\u001b[1G161.3 MiB [] 86% 0.2s\u001b[0K\u001b[1G161.3 MiB [] 87% 0.2s\u001b[0K\u001b[1G161.3 MiB [] 88% 0.2s\u001b[0K\u001b[1G161.3 MiB [] 90% 0.1s\u001b[0K\u001b[1G161.3 MiB [] 91% 0.1s\u001b[0K\u001b[1G161.3 MiB [] 92% 0.1s\u001b[0K\u001b[1G161.3 MiB [] 93% 0.1s\u001b[0K\u001b[1G161.3 MiB [] 94% 0.1s\u001b[0K\u001b[1G161.3 MiB [] 95% 0.1s\u001b[0K\u001b[1G161.3 MiB [] 96% 0.1s\u001b[0K\u001b[1G161.3 MiB [] 97% 0.0s\u001b[0K\u001b[1G161.3 MiB [] 98% 0.0s\u001b[0K\u001b[1G161.3 MiB [] 99% 0.0s\u001b[0K\u001b[1G161.3 MiB [] 100% 0.0s\u001b[0K\n",
            "Chromium 131.0.6778.33 (playwright build v1148) downloaded to /root/.cache/ms-playwright/chromium-1148\n",
            "Downloading FFMPEG playwright build v1010\u001b[2m from https://playwright.azureedge.net/builds/ffmpeg/1010/ffmpeg-linux.zip\u001b[22m\n",
            "\u001b[1G2.3 MiB [] 0% 0.0s\u001b[0K\u001b[1G2.3 MiB [] 18% 0.1s\u001b[0K\u001b[1G2.3 MiB [] 82% 0.0s\u001b[0K\u001b[1G2.3 MiB [] 100% 0.0s\u001b[0K\n",
            "FFMPEG playwright build v1010 downloaded to /root/.cache/ms-playwright/ffmpeg-1010\n",
            "Downloading Chromium Headless Shell 131.0.6778.33 (playwright build v1148)\u001b[2m from https://playwright.azureedge.net/builds/chromium/1148/chromium-headless-shell-linux.zip\u001b[22m\n",
            "\u001b[1G100.9 MiB [] 0% 0.0s\u001b[0K\u001b[1G100.9 MiB [] 0% 3.3s\u001b[0K\u001b[1G100.9 MiB [] 1% 1.9s\u001b[0K\u001b[1G100.9 MiB [] 3% 1.6s\u001b[0K\u001b[1G100.9 MiB [] 4% 1.4s\u001b[0K\u001b[1G100.9 MiB [] 6% 1.2s\u001b[0K\u001b[1G100.9 MiB [] 7% 1.2s\u001b[0K\u001b[1G100.9 MiB [] 9% 1.1s\u001b[0K\u001b[1G100.9 MiB [] 10% 1.2s\u001b[0K\u001b[1G100.9 MiB [] 11% 1.2s\u001b[0K\u001b[1G100.9 MiB [] 12% 1.2s\u001b[0K\u001b[1G100.9 MiB [] 14% 1.1s\u001b[0K\u001b[1G100.9 MiB [] 15% 1.1s\u001b[0K\u001b[1G100.9 MiB [] 17% 1.0s\u001b[0K\u001b[1G100.9 MiB [] 18% 1.0s\u001b[0K\u001b[1G100.9 MiB [] 20% 0.9s\u001b[0K\u001b[1G100.9 MiB [] 22% 0.9s\u001b[0K\u001b[1G100.9 MiB [] 23% 0.9s\u001b[0K\u001b[1G100.9 MiB [] 25% 0.9s\u001b[0K\u001b[1G100.9 MiB [] 27% 0.8s\u001b[0K\u001b[1G100.9 MiB [] 28% 0.8s\u001b[0K\u001b[1G100.9 MiB [] 31% 0.8s\u001b[0K\u001b[1G100.9 MiB [] 33% 0.7s\u001b[0K\u001b[1G100.9 MiB [] 35% 0.7s\u001b[0K\u001b[1G100.9 MiB [] 37% 0.7s\u001b[0K\u001b[1G100.9 MiB [] 38% 0.7s\u001b[0K\u001b[1G100.9 MiB [] 40% 0.6s\u001b[0K\u001b[1G100.9 MiB [] 42% 0.6s\u001b[0K\u001b[1G100.9 MiB [] 44% 0.6s\u001b[0K\u001b[1G100.9 MiB [] 46% 0.5s\u001b[0K\u001b[1G100.9 MiB [] 46% 0.6s\u001b[0K\u001b[1G100.9 MiB [] 49% 0.5s\u001b[0K\u001b[1G100.9 MiB [] 51% 0.5s\u001b[0K\u001b[1G100.9 MiB [] 53% 0.5s\u001b[0K\u001b[1G100.9 MiB [] 55% 0.4s\u001b[0K\u001b[1G100.9 MiB [] 58% 0.4s\u001b[0K\u001b[1G100.9 MiB [] 60% 0.4s\u001b[0K\u001b[1G100.9 MiB [] 62% 0.4s\u001b[0K\u001b[1G100.9 MiB [] 64% 0.3s\u001b[0K\u001b[1G100.9 MiB [] 66% 0.3s\u001b[0K\u001b[1G100.9 MiB [] 68% 0.3s\u001b[0K\u001b[1G100.9 MiB [] 71% 0.3s\u001b[0K\u001b[1G100.9 MiB [] 73% 0.2s\u001b[0K\u001b[1G100.9 MiB [] 75% 0.2s\u001b[0K\u001b[1G100.9 MiB [] 77% 0.2s\u001b[0K\u001b[1G100.9 MiB [] 79% 0.2s\u001b[0K\u001b[1G100.9 MiB [] 81% 0.2s\u001b[0K\u001b[1G100.9 MiB [] 84% 0.1s\u001b[0K\u001b[1G100.9 MiB [] 87% 0.1s\u001b[0K\u001b[1G100.9 MiB [] 90% 0.1s\u001b[0K\u001b[1G100.9 MiB [] 92% 0.1s\u001b[0K\u001b[1G100.9 MiB [] 94% 0.1s\u001b[0K\u001b[1G100.9 MiB [] 96% 0.0s\u001b[0K\u001b[1G100.9 MiB [] 98% 0.0s\u001b[0K\u001b[1G100.9 MiB [] 100% 0.0s\u001b[0K\n",
            "Chromium Headless Shell 131.0.6778.33 (playwright build v1148) downloaded to /root/.cache/ms-playwright/chromium_headless_shell-1148\n"
          ]
        }
      ]
    },
    {
      "cell_type": "code",
      "source": [
        "async_browser = create_async_playwright_browser()\n",
        "toolkit = PlayWrightBrowserToolkit.from_browser(async_browser=async_browser)\n",
        "tools = toolkit.get_tools()\n",
        "tools"
      ],
      "metadata": {
        "colab": {
          "base_uri": "https://localhost:8080/"
        },
        "id": "4p-MAIN7FJAl",
        "outputId": "e65e098f-dae2-4ac5-f7a8-108d3e68862a"
      },
      "execution_count": 12,
      "outputs": [
        {
          "output_type": "execute_result",
          "data": {
            "text/plain": [
              "[ClickTool(async_browser=<Browser type=<BrowserType name=chromium executable_path=/root/.cache/ms-playwright/chromium-1148/chrome-linux/chrome> version=131.0.6778.33>),\n",
              " NavigateTool(async_browser=<Browser type=<BrowserType name=chromium executable_path=/root/.cache/ms-playwright/chromium-1148/chrome-linux/chrome> version=131.0.6778.33>),\n",
              " NavigateBackTool(async_browser=<Browser type=<BrowserType name=chromium executable_path=/root/.cache/ms-playwright/chromium-1148/chrome-linux/chrome> version=131.0.6778.33>),\n",
              " ExtractTextTool(async_browser=<Browser type=<BrowserType name=chromium executable_path=/root/.cache/ms-playwright/chromium-1148/chrome-linux/chrome> version=131.0.6778.33>),\n",
              " ExtractHyperlinksTool(async_browser=<Browser type=<BrowserType name=chromium executable_path=/root/.cache/ms-playwright/chromium-1148/chrome-linux/chrome> version=131.0.6778.33>),\n",
              " GetElementsTool(async_browser=<Browser type=<BrowserType name=chromium executable_path=/root/.cache/ms-playwright/chromium-1148/chrome-linux/chrome> version=131.0.6778.33>),\n",
              " CurrentWebPageTool(async_browser=<Browser type=<BrowserType name=chromium executable_path=/root/.cache/ms-playwright/chromium-1148/chrome-linux/chrome> version=131.0.6778.33>)]"
            ]
          },
          "metadata": {},
          "execution_count": 12
        }
      ]
    },
    {
      "cell_type": "code",
      "source": [
        "tools_by_name = {tool.name: tool for tool in tools}\n",
        "navigate_tool = tools_by_name[\"navigate_browser\"]\n",
        "get_elements_tool = tools_by_name[\"get_elements\"]"
      ],
      "metadata": {
        "id": "eB9RpECDFpTB"
      },
      "execution_count": 13,
      "outputs": []
    },
    {
      "cell_type": "code",
      "source": [
        "await navigate_tool.arun(\n",
        "    {\n",
        "        \"url\": \"https://medium.com/@taylorhughes/how-to-deploy-an-existing-docker-container-project-to-google-cloud-run-with-the-minimum-amount-of-daca0b5978d8\",\n",
        "        \"timeout\": 60000,  # Increase timeout to 60 seconds\n",
        "    }\n",
        ")"
      ],
      "metadata": {
        "colab": {
          "base_uri": "https://localhost:8080/",
          "height": 53
        },
        "id": "RrGSBgExFuSx",
        "outputId": "8d6e6a92-eff2-46a0-aafb-f0c07df19914"
      },
      "execution_count": 25,
      "outputs": [
        {
          "output_type": "execute_result",
          "data": {
            "text/plain": [
              "'Navigating to https://medium.com/@taylorhughes/how-to-deploy-an-existing-docker-container-project-to-google-cloud-run-with-the-minimum-amount-of-daca0b5978d8 returned status code 403'"
            ],
            "application/vnd.google.colaboratory.intrinsic+json": {
              "type": "string"
            }
          },
          "metadata": {},
          "execution_count": 25
        }
      ]
    },
    {
      "cell_type": "code",
      "source": [
        "# The browser is shared across tools, so the agent can interact in a stateful manner\n",
        "await get_elements_tool.arun(\n",
        "    {\"selector\": \".container__headline\", \"attributes\": [\"innerText\"]}\n",
        ")"
      ],
      "metadata": {
        "colab": {
          "base_uri": "https://localhost:8080/",
          "height": 123
        },
        "id": "MQOQhXO0GQio",
        "outputId": "e4b9ea7a-a942-43b2-ed79-1ac9e67d89ab"
      },
      "execution_count": 19,
      "outputs": [
        {
          "output_type": "execute_result",
          "data": {
            "text/plain": [
              "'[{\"innerText\": \"These Ukrainian veterinarians are risking their lives to care for dogs and cats in the war zone\"}, {\"innerText\": \"Life in the ocean’s ‘twilight zone’ could disappear due to the climate crisis\"}, {\"innerText\": \"Clashes renew in West Darfur as food and water shortages worsen in Sudan violence\"}, {\"innerText\": \"Thai policeman’s wife investigated over alleged murder and a dozen other poison cases\"}, {\"innerText\": \"American teacher escaped Sudan on French evacuation plane, with no help offered back home\"}, {\"innerText\": \"Dubai’s emerging hip-hop scene is finding its voice\"}, {\"innerText\": \"How an underwater film inspired a marine protected area off Kenya’s coast\"}, {\"innerText\": \"The Iranian drones deployed by Russia in Ukraine are powered by stolen Western technology, research reveals\"}, {\"innerText\": \"India says border violations erode ‘entire basis’ of ties with China\"}, {\"innerText\": \"Australian police sift through 3,000 tons of trash for missing woman’s remains\"}, {\"innerText\": \"As US and Philippine defense ties grow, China warns over Taiwan tensions\"}, {\"innerText\": \"Don McLean offers duet with South Korean president who sang ‘American Pie’ to Biden\"}, {\"innerText\": \"Almost two-thirds of elephant habitat lost across Asia, study finds\"}, {\"innerText\": \"‘We don’t sleep … I would call it fainting’: Working as a doctor in Sudan’s crisis\"}, {\"innerText\": \"Kenya arrests second pastor to face criminal charges ‘related to mass killing of his followers’\"}, {\"innerText\": \"Russia launches deadly wave of strikes across Ukraine\"}, {\"innerText\": \"Woman forced to leave her forever home or ‘walk to your death’ she says\"}, {\"innerText\": \"U.S. House Speaker Kevin McCarthy weighs in on Disney-DeSantis feud\"}, {\"innerText\": \"Two sides agree to extend Sudan ceasefire\"}, {\"innerText\": \"Spanish Leopard 2 tanks are on their way to Ukraine, defense minister confirms\"}, {\"innerText\": \"Flambéed pizza thought to have sparked deadly Madrid restaurant fire\"}, {\"innerText\": \"Another bomb found in Belgorod just days after Russia accidentally struck the city\"}, {\"innerText\": \"A Black teen’s murder sparked a crisis over racism in British policing. Thirty years on, little has changed\"}, {\"innerText\": \"Belgium destroys shipment of American beer after taking issue with ‘Champagne of Beer’ slogan\"}, {\"innerText\": \"UK Prime Minister Rishi Sunak rocked by resignation of top ally Raab over bullying allegations\"}, {\"innerText\": \"Iran’s Navy seizes Marshall Islands-flagged ship\"}, {\"innerText\": \"A divided Israel stands at a perilous crossroads on its 75th birthday\"}, {\"innerText\": \"Palestinian reporter breaks barriers by reporting in Hebrew on Israeli TV\"}, {\"innerText\": \"One-fifth of water pollution comes from textile dyes. But a shellfish-inspired solution could clean it up\"}, {\"innerText\": \"‘People sacrificed their lives for just\\xa010 dollars’: At least 78 killed in Yemen crowd surge\"}, {\"innerText\": \"Israeli police say two men shot near Jewish tomb in Jerusalem in suspected ‘terror attack’\"}, {\"innerText\": \"King Charles III’s coronation: Who’s performing at the ceremony\"}, {\"innerText\": \"The week in 33 photos\"}, {\"innerText\": \"Hong Kong’s endangered turtles\"}, {\"innerText\": \"In pictures: Britain’s Queen Camilla\"}, {\"innerText\": \"Catastrophic drought that’s pushed millions into crisis made 100 times more likely by climate change, analysis finds\"}, {\"innerText\": \"For years, a UK mining giant was untouchable in Zambia for pollution until a former miner’s son took them on\"}, {\"innerText\": \"Former Sudanese minister Ahmed Haroun wanted on war crimes charges freed from Khartoum prison\"}, {\"innerText\": \"WHO warns of ‘biological risk’ after Sudan fighters seize lab, as violence mars US-brokered ceasefire\"}, {\"innerText\": \"How Colombia’s Petro, a former leftwing guerrilla, found his opening in Washington\"}, {\"innerText\": \"Bolsonaro accidentally created Facebook post questioning Brazil election results, say his attorneys\"}, {\"innerText\": \"Crowd kills over a dozen suspected gang members in Haiti\"}, {\"innerText\": \"Thousands of tequila bottles containing liquid meth seized\"}, {\"innerText\": \"Why send a US stealth submarine to South Korea – and tell the world about it?\"}, {\"innerText\": \"Fukushima’s fishing industry survived a nuclear disaster. 12 years on, it fears Tokyo’s next move may finish it off\"}, {\"innerText\": \"Singapore executes man for trafficking two pounds of cannabis\"}, {\"innerText\": \"Conservative Thai party looks to woo voters with promise to legalize sex toys\"}, {\"innerText\": \"Inside the Italian village being repopulated by Americans\"}, {\"innerText\": \"Strikes, soaring airfares and yo-yoing hotel fees: A traveler’s guide to the coronation\"}, {\"innerText\": \"A year in Azerbaijan: From spring’s Grand Prix to winter ski adventures\"}, {\"innerText\": \"The bicycle mayor peddling a two-wheeled revolution in Cape Town\"}, {\"innerText\": \"Tokyo ramen shop bans customers from using their phones while eating\"}, {\"innerText\": \"South African opera star will perform at coronation of King Charles III\"}, {\"innerText\": \"Luxury loot under the hammer: France auctions goods seized from drug dealers\"}, {\"innerText\": \"Judy Blume’s books were formative for generations of readers. Here’s why they endure\"}, {\"innerText\": \"Craft, salvage and sustainability take center stage at Milan Design Week\"}, {\"innerText\": \"Life-sized chocolate King Charles III sculpture unveiled to celebrate coronation\"}, {\"innerText\": \"Severe storms to strike the South again as millions in Texas could see damaging winds and hail\"}, {\"innerText\": \"The South is in the crosshairs of severe weather again, as the multi-day threat of large hail and tornadoes continues\"}, {\"innerText\": \"Spring snowmelt has cities along the Mississippi bracing for flooding in homes and businesses\"}, {\"innerText\": \"Know the difference between a tornado watch, a tornado warning and a tornado emergency\"}, {\"innerText\": \"Reporter spotted familiar face covering Sudan evacuation. See what happened next\"}, {\"innerText\": \"This country will soon become the world’s most populated\"}, {\"innerText\": \"April 27, 2023 - Russia-Ukraine news\"}, {\"innerText\": \"‘Often they shoot at each other’: Ukrainian drone operator details chaos in Russian ranks\"}, {\"innerText\": \"Hear from family members of Americans stuck in Sudan frustrated with US response\"}, {\"innerText\": \"U.S. talk show host Jerry Springer dies at 79\"}, {\"innerText\": \"Bureaucracy stalling at least one family’s evacuation from Sudan\"}, {\"innerText\": \"Girl to get life-saving treatment for rare immune disease\"}, {\"innerText\": \"Haiti’s crime rate more than doubles in a year\"}, {\"innerText\": \"Ocean census aims to discover 100,000 previously unknown marine species\"}, {\"innerText\": \"Wall Street Journal editor discusses reporter’s arrest in Moscow\"}, {\"innerText\": \"Can Tunisia’s democracy be saved?\"}, {\"innerText\": \"Yasmeen Lari, ‘starchitect’ turned social engineer, wins one of architecture’s most coveted prizes\"}, {\"innerText\": \"A massive, newly restored Frank Lloyd Wright mansion is up for sale\"}, {\"innerText\": \"Are these the most sustainable architectural projects in the world?\"}, {\"innerText\": \"Step inside a $72 million London townhouse in a converted army barracks\"}, {\"innerText\": \"A 3D-printing company is preparing to build on the lunar surface. But first, a moonshot at home\"}, {\"innerText\": \"Simona Halep says ‘the stress is huge’ as she battles to return to tennis following positive drug test\"}, {\"innerText\": \"Barcelona reaches third straight Women’s Champions League final with draw against Chelsea\"}, {\"innerText\": \"Wrexham: An intoxicating tale of Hollywood glamor and sporting romance\"}, {\"innerText\": \"Shohei Ohtani comes within inches of making yet more MLB history in Angels win\"}, {\"innerText\": \"This CNN Hero is recruiting recreational divers to help rebuild reefs in Florida one coral at a time\"}, {\"innerText\": \"This CNN Hero offers judgment-free veterinary care for the pets of those experiencing homelessness\"}, {\"innerText\": \"Don’t give up on milestones: A CNN Hero’s message for Autism Awareness Month\"}, {\"innerText\": \"CNN Hero of the Year Nelly Cheboi returned to Kenya with plans to lift more students out of poverty\"}]'"
            ],
            "application/vnd.google.colaboratory.intrinsic+json": {
              "type": "string"
            }
          },
          "metadata": {},
          "execution_count": 19
        }
      ]
    },
    {
      "cell_type": "code",
      "source": [
        "# If the agent wants to remember the current webpage, it can use the `current_webpage` tool\n",
        "await tools_by_name[\"current_webpage\"].arun({})"
      ],
      "metadata": {
        "colab": {
          "base_uri": "https://localhost:8080/",
          "height": 36
        },
        "id": "hVLKajXMGxMI",
        "outputId": "ef58fe66-fca5-4f60-e808-2f7400410065"
      },
      "execution_count": 20,
      "outputs": [
        {
          "output_type": "execute_result",
          "data": {
            "text/plain": [
              "'https://web.archive.org/web/20230428133211/https://cnn.com/world'"
            ],
            "application/vnd.google.colaboratory.intrinsic+json": {
              "type": "string"
            }
          },
          "metadata": {},
          "execution_count": 20
        }
      ]
    },
    {
      "cell_type": "code",
      "source": [
        "from langchain.agents import AgentType, initialize_agent\n",
        "from langchain_groq import ChatGroq\n",
        "\n",
        "llm = ChatGroq(\n",
        "    temperature=0,\n",
        "    groq_api_key='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',\n",
        "    model_name=\"llama-3.1-70b-versatile\"\n",
        ")\n",
        "\n",
        "agent_chain = initialize_agent(\n",
        "    tools,\n",
        "    llm,\n",
        "    agent=AgentType.STRUCTURED_CHAT_ZERO_SHOT_REACT_DESCRIPTION,\n",
        "    verbose=True,\n",
        ")"
      ],
      "metadata": {
        "colab": {
          "base_uri": "https://localhost:8080/"
        },
        "id": "SQOid6UeEpPS",
        "outputId": "11a4ce37-ad25-4212-fccd-640e198cd7a6"
      },
      "execution_count": 21,
      "outputs": [
        {
          "output_type": "stream",
          "name": "stderr",
          "text": [
            "<ipython-input-21-b7ddbce7398a>:10: LangChainDeprecationWarning: LangChain agents will continue to be supported, but it is recommended for new use cases to be built with LangGraph. LangGraph offers a more flexible and full-featured framework for building agents, including support for tool-calling, persistence of state, and human-in-the-loop workflows. See LangGraph documentation for more details: https://langchain-ai.github.io/langgraph/. Refer here for its pre-built ReAct agent: https://langchain-ai.github.io/langgraph/how-tos/create-react-agent/\n",
            "  agent_chain = initialize_agent(\n"
          ]
        }
      ]
    },
    {
      "cell_type": "code",
      "source": [
        "result = await agent_chain.arun(\"What are the headers on langchain.com?\")\n",
        "print(result)"
      ],
      "metadata": {
        "colab": {
          "base_uri": "https://localhost:8080/"
        },
        "id": "ceKRrvPaG7X_",
        "outputId": "22aa02e6-ba65-44ce-fdda-57e5e8e89360"
      },
      "execution_count": 22,
      "outputs": [
        {
          "output_type": "stream",
          "name": "stderr",
          "text": [
            "<ipython-input-22-5789f60bc5a5>:1: LangChainDeprecationWarning: The method `Chain.arun` was deprecated in langchain 0.1.0 and will be removed in 1.0. Use :meth:`~ainvoke` instead.\n",
            "  result = await agent_chain.arun(\"What are the headers on langchain.com?\")\n"
          ]
        },
        {
          "output_type": "stream",
          "name": "stdout",
          "text": [
            "\n",
            "\n",
            "\u001b[1m> Entering new AgentExecutor chain...\u001b[0m\n",
            "\u001b[32;1m\u001b[1;3mTo find the headers on langchain.com, I'll navigate to the webpage and extract the text.\n",
            "\n",
            "Action:\n",
            "```\n",
            "{\n",
            "  \"action\": \"navigate_browser\",\n",
            "  \"action_input\": {\n",
            "    \"url\": \"https://langchain.com\"\n",
            "  }\n",
            "}\n",
            "```\n",
            "\u001b[0m\n",
            "Observation: \u001b[33;1m\u001b[1;3mNavigating to https://langchain.com returned status code 200\u001b[0m\n",
            "Thought:\u001b[32;1m\u001b[1;3mNow that I'm on the webpage, I'll extract the text to find the headers.\n",
            "\n",
            "Action:\n",
            "```\n",
            "{\n",
            "  \"action\": \"extract_text\",\n",
            "  \"action_input\": {}\n",
            "}\n",
            "```\n",
            "\n",
            "\u001b[0m\n",
            "Observation: \u001b[31;1m\u001b[1;3mLangChain We value your privacy We use cookies to analyze our traffic. By clicking \"Accept All\", you consent to our use of cookies. Privacy Policy Customize Reject All Accept All Customize Consent Preferences We may use cookies to help you navigate efficiently and perform certain functions. You will find detailed information about all cookies under each consent category below. The cookies that are categorized as \"Necessary\" are stored on your browser as they are essential for enabling the basic functionalities of the site.... Show more Necessary Always Active Necessary cookies are required to enable the basic features of this site, such as providing secure log-in or adjusting your consent preferences. These cookies do not store any personally identifiable data. Functional Functional cookies help perform certain functionalities like sharing the content of the website on social media platforms, collecting feedback, and other third-party features. Analytics Analytical cookies are used to understand how visitors interact with the website. These cookies help provide information on metrics such as the number of visitors, bounce rate, traffic source, etc. Performance Performance cookies are used to understand and analyze the key performance indexes of the website which helps in delivering a better user experience for the visitors. Advertisement Advertisement cookies are used to provide visitors with customized advertisements based on the pages you visited previously and to analyze the effectiveness of the ad campaigns. Uncategorized Other uncategorized cookies are those that are being analyzed and have not been classified into a category as yet. Reject All Save My Preferences Accept All Products LangChain LangSmith LangGraph Methods Retrieval Agents Evaluation Resources Blog Customer Stories LangChain Academy Community Experts Changelog LLM Evaluations Guide State of AI Agents Breakout Agent Stories Docs Python LangChain LangSmith LangGraph JavaScript LangChain LangSmith LangGraph Company About Careers Pricing LangSmith LangGraph Platform Get a demo Sign up Products LangChain LangSmith LangGraph Methods Retrieval Agents Evaluation Resources Blog Customer Stories LangChain Academy Community Experts Changelog LLM Evaluations Guide State of AI Agents Breakout Agent Stories Docs Python LangChain LangSmith LangGraph JavaScript LangChain LangSmith LangGraph Company About Careers Pricing LangSmith LangGraph Platform Get a demo Sign up LangChain’s suite of products supports developers along each step of the LLM application lifecycle. Applications that can reason. Powered by LangChain. Get a demo Sign up for free From startups to global enterprises, ambitious builders choose LangChain products. Build LangChain is a composable framework to build with LLMs. LangGraph is the orchestration framework for controllable agentic workflows. Run Deploy your LLM applications at scale with LangGraph Platform, our infrastructure purpose-built for agents. Manage Debug, collaborate, test, and monitor your LLM app in LangSmith - whether it's built with a LangChain framework or not. Build your app with LangChain Build context-aware, reasoning applications with LangChain’s flexible framework that leverages your company’s data and APIs. Future-proof your application by making vendor optionality part of your LLM infrastructure design. Learn more about LangChain Run at scale with LangGraph Platform Use LangGraph Platform’s APIs to design agent-driven user experiences featuring human-in-the-loop, multi-agent collaboration, conversation history, long-term memory, and time-travel. Deploy with fault-tolerant scalability. Learn more about LangGraph Platform Manage LLM performance with LangSmith Ship faster with LangSmith’s debug, test, deploy, and monitoring workflows. Don’t rely on “vibes” – add engineering rigor to your LLM-development workflow, whether you’re building with LangChain or not. Learn more about LangSmith Hear from our happy customers LangChain, LangGraph, and LangSmith help teams of all sizes, across all industries - from ambitious startups to established enterprises. “LangSmith helped us improve the accuracy and performance of Retool’s fine-tuned models. Not only did we deliver a better product by iterating with LangSmith, but we’re shipping new AI features to our users in a fraction of the time it would have taken without it.” Jamie Cuffe Head of Self-Serve and New Products “By combining the benefits of LangSmith and standing on the shoulders of a gigantic open-source community, we’re able to identify the right approaches of using LLMs in an enterprise-setting faster.” Yusuke Kaji General Manager of AI “Working with LangChain and LangSmith on the Elastic AI Assistant had a significant positive impact on the overall pace and quality of the development and shipping experience. We couldn’t have achieved  the product experience delivered to our customers without LangChain, and we couldn’t have done it at the same pace without LangSmith.” James Spiteri Director of Security Products “As soon as we heard about LangSmith, we moved our entire development stack onto it. We could have built evaluation, testing and monitoring tools in house, but with LangSmith it took us 10x less time to get a 1000x better tool.” Jose Peña Senior Manager The reference architecture enterprises adopt for success. LangChain’s suite of products can be used independently or stacked together for multiplicative impact – guiding you through building, running, and managing your LLM apps. 15M+ Monthly Downloads 100K+ Apps Powered 100K+ GitHub Stars 4K+ Contributors The biggest developer community in GenAI Learn alongside the 1M+ developers who are pushing the industry forward. Explore LangChain Get started with the LangSmith platform today Get a demo Sign up for free Teams building with LangChain are driving operational efficiency, increasing discovery & personalization, and delivering premium products that generate revenue. See customer stories Get inspired by companies who have done it. Financial Services FinTech Technology LangSmith is the enterprise developer platform built for LLMs. Explore LangSmith Gain visibility to make trade offs between cost, latency, and quality. Increase developer productivity. Eliminate manual, error-prone testing. Reduce hallucinations and improve reliability. Enterprise deployment options to keep data secure. Ready to start shipping  reliable GenAI apps faster? Get started with LangChain, LangSmith, and LangGraph to enhance your LLM app development, from prototype to production. Get a demo Sign up for free Products LangChain LangSmith LangGraph Agents Evaluation Retrieval Resources Python Docs JS/TS Docs GitHub Integrations Changelog LangSmith Trust Portal Company About Blog Twitter LinkedIn YouTube Community Marketing Assets Sign up for our newsletter to stay up to date Thank you! Your submission has been received! Oops! Something went wrong while submitting the form. All systems operational Privacy Policy Terms of Service\u001b[0m\n",
            "Thought:\u001b[32;1m\u001b[1;3mThe text extracted from the webpage contains a lot of information, but it doesn't directly provide the headers on the webpage. To find the headers, I'll extract the HTML elements with the 'h' tag.\n",
            "\n",
            "Action:\n",
            "```\n",
            "{\n",
            "  \"action\": \"get_elements\",\n",
            "  \"action_input\": {\n",
            "    \"selector\": \"h1, h2, h3, h4, h5, h6\",\n",
            "    \"attributes\": [\"text\"]\n",
            "  }\n",
            "}\n",
            "```\u001b[0m\n",
            "Observation: \u001b[33;1m\u001b[1;3m[]\u001b[0m\n",
            "Thought:\u001b[32;1m\u001b[1;3mIt seems like the previous action didn't return any elements. This could be because the webpage uses a different structure for its headers. To find the headers, I'll try extracting all the elements with a 'header' or 'heading' class.\n",
            "\n",
            "Action:\n",
            "```\n",
            "{\n",
            "  \"action\": \"get_elements\",\n",
            "  \"action_input\": {\n",
            "    \"selector\": \".header, .heading, .title\",\n",
            "    \"attributes\": [\"text\"]\n",
            "  }\n",
            "}\n",
            "```\n",
            "\u001b[0m\n",
            "Observation: \u001b[33;1m\u001b[1;3m[]\u001b[0m\n",
            "Thought:\u001b[32;1m\u001b[1;3mIt seems like the previous actions didn't return any elements. This could be because the webpage uses a different structure for its headers. To find the headers, I'll try extracting all the elements with a 'header' or 'heading' class and also try to extract the text of all elements.\n",
            "\n",
            "Action:\n",
            "```\n",
            "{\n",
            "  \"action\": \"extract_text\",\n",
            "  \"action_input\": {}\n",
            "}\n",
            "```\n",
            "\u001b[0m\n",
            "Observation: \u001b[31;1m\u001b[1;3mLangChain We value your privacy We use cookies to analyze our traffic. By clicking \"Accept All\", you consent to our use of cookies. Privacy Policy Customize Reject All Accept All Customize Consent Preferences We may use cookies to help you navigate efficiently and perform certain functions. You will find detailed information about all cookies under each consent category below. The cookies that are categorized as \"Necessary\" are stored on your browser as they are essential for enabling the basic functionalities of the site.... Show more Necessary Always Active Necessary cookies are required to enable the basic features of this site, such as providing secure log-in or adjusting your consent preferences. These cookies do not store any personally identifiable data. Functional Functional cookies help perform certain functionalities like sharing the content of the website on social media platforms, collecting feedback, and other third-party features. Analytics Analytical cookies are used to understand how visitors interact with the website. These cookies help provide information on metrics such as the number of visitors, bounce rate, traffic source, etc. Performance Performance cookies are used to understand and analyze the key performance indexes of the website which helps in delivering a better user experience for the visitors. Advertisement Advertisement cookies are used to provide visitors with customized advertisements based on the pages you visited previously and to analyze the effectiveness of the ad campaigns. Uncategorized Other uncategorized cookies are those that are being analyzed and have not been classified into a category as yet. Reject All Save My Preferences Accept All Products LangChain LangSmith LangGraph Methods Retrieval Agents Evaluation Resources Blog Customer Stories LangChain Academy Community Experts Changelog LLM Evaluations Guide State of AI Agents Breakout Agent Stories Docs Python LangChain LangSmith LangGraph JavaScript LangChain LangSmith LangGraph Company About Careers Pricing LangSmith LangGraph Platform Get a demo Sign up Products LangChain LangSmith LangGraph Methods Retrieval Agents Evaluation Resources Blog Customer Stories LangChain Academy Community Experts Changelog LLM Evaluations Guide State of AI Agents Breakout Agent Stories Docs Python LangChain LangSmith LangGraph JavaScript LangChain LangSmith LangGraph Company About Careers Pricing LangSmith LangGraph Platform Get a demo Sign up LangChain’s suite of products supports developers along each step of the LLM application lifecycle. Applications that can reason. Powered by LangChain. Get a demo Sign up for free From startups to global enterprises, ambitious builders choose LangChain products. Build LangChain is a composable framework to build with LLMs. LangGraph is the orchestration framework for controllable agentic workflows. Run Deploy your LLM applications at scale with LangGraph Platform, our infrastructure purpose-built for agents. Manage Debug, collaborate, test, and monitor your LLM app in LangSmith - whether it's built with a LangChain framework or not. Build your app with LangChain Build context-aware, reasoning applications with LangChain’s flexible framework that leverages your company’s data and APIs. Future-proof your application by making vendor optionality part of your LLM infrastructure design. Learn more about LangChain Run at scale with LangGraph Platform Use LangGraph Platform’s APIs to design agent-driven user experiences featuring human-in-the-loop, multi-agent collaboration, conversation history, long-term memory, and time-travel. Deploy with fault-tolerant scalability. Learn more about LangGraph Platform Manage LLM performance with LangSmith Ship faster with LangSmith’s debug, test, deploy, and monitoring workflows. Don’t rely on “vibes” – add engineering rigor to your LLM-development workflow, whether you’re building with LangChain or not. Learn more about LangSmith Hear from our happy customers LangChain, LangGraph, and LangSmith help teams of all sizes, across all industries - from ambitious startups to established enterprises. “LangSmith helped us improve the accuracy and performance of Retool’s fine-tuned models. Not only did we deliver a better product by iterating with LangSmith, but we’re shipping new AI features to our users in a fraction of the time it would have taken without it.” Jamie Cuffe Head of Self-Serve and New Products “By combining the benefits of LangSmith and standing on the shoulders of a gigantic open-source community, we’re able to identify the right approaches of using LLMs in an enterprise-setting faster.” Yusuke Kaji General Manager of AI “Working with LangChain and LangSmith on the Elastic AI Assistant had a significant positive impact on the overall pace and quality of the development and shipping experience. We couldn’t have achieved  the product experience delivered to our customers without LangChain, and we couldn’t have done it at the same pace without LangSmith.” James Spiteri Director of Security Products “As soon as we heard about LangSmith, we moved our entire development stack onto it. We could have built evaluation, testing and monitoring tools in house, but with LangSmith it took us 10x less time to get a 1000x better tool.” Jose Peña Senior Manager The reference architecture enterprises adopt for success. LangChain’s suite of products can be used independently or stacked together for multiplicative impact – guiding you through building, running, and managing your LLM apps. 15M+ Monthly Downloads 100K+ Apps Powered 100K+ GitHub Stars 4K+ Contributors The biggest developer community in GenAI Learn alongside the 1M+ developers who are pushing the industry forward. Explore LangChain Get started with the LangSmith platform today Get a demo Sign up for free Teams building with LangChain are driving operational efficiency, increasing discovery & personalization, and delivering premium products that generate revenue. See customer stories Get inspired by companies who have done it. Financial Services FinTech Technology LangSmith is the enterprise developer platform built for LLMs. Explore LangSmith Gain visibility to make trade offs between cost, latency, and quality. Increase developer productivity. Eliminate manual, error-prone testing. Reduce hallucinations and improve reliability. Enterprise deployment options to keep data secure. Ready to start shipping  reliable GenAI apps faster? Get started with LangChain, LangSmith, and LangGraph to enhance your LLM app development, from prototype to production. Get a demo Sign up for free Products LangChain LangSmith LangGraph Agents Evaluation Retrieval Resources Python Docs JS/TS Docs GitHub Integrations Changelog LangSmith Trust Portal Company About Blog Twitter LinkedIn YouTube Community Marketing Assets Sign up for our newsletter to stay up to date Thank you! Your submission has been received! Oops! Something went wrong while submitting the form. All systems operational Privacy Policy Terms of Service\u001b[0m\n",
            "Thought:\u001b[32;1m\u001b[1;3mIt seems like the previous actions didn't return any elements that directly provide the headers on the webpage. However, the text extracted from the webpage contains some headings that can be considered as headers. Here are some of the headings that can be found in the text:\n",
            "\n",
            "* Products\n",
            "* Methods\n",
            "* Resources\n",
            "* Blog\n",
            "* Customer Stories\n",
            "* LangChain Academy\n",
            "* Community\n",
            "* Experts\n",
            "* Changelog\n",
            "* LLM Evaluations Guide\n",
            "* State of AI Agents\n",
            "* Breakout Agent Stories\n",
            "* Docs\n",
            "* Company\n",
            "* About\n",
            "* Careers\n",
            "* Pricing\n",
            "* LangSmith\n",
            "* LangGraph\n",
            "* Platform\n",
            "* Get a demo\n",
            "* Sign up\n",
            "\n",
            "These headings can be considered as the headers on the webpage.\n",
            "\n",
            "Action:\n",
            "```\n",
            "{\n",
            "  \"action\": \"Final Answer\",\n",
            "  \"action_input\": \"The headers on langchain.com include: Products, Methods, Resources, Blog, Customer Stories, LangChain Academy, Community, Experts, Changelog, LLM Evaluations Guide, State of AI Agents, Breakout Agent Stories, Docs, Company, About, Careers, Pricing, LangSmith, LangGraph, Platform, Get a demo, Sign up.\"\n",
            "}\n",
            "```\u001b[0m\n",
            "\n",
            "\u001b[1m> Finished chain.\u001b[0m\n",
            "The headers on langchain.com include: Products, Methods, Resources, Blog, Customer Stories, LangChain Academy, Community, Experts, Changelog, LLM Evaluations Guide, State of AI Agents, Breakout Agent Stories, Docs, Company, About, Careers, Pricing, LangSmith, LangGraph, Platform, Get a demo, Sign up.\n"
          ]
        }
      ]
    }
  ]
}